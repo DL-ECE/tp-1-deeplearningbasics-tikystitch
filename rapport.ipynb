{
 "cells": [
  {
   "source": [
    "# TP-1 DLBasics\n",
    "\n",
    "## Digit classification using the MNIST dataset\n",
    "\n",
    "In this notebook you will train your first neural network. Feel free to look back at the Lecture-1 slides to complete the cells below. "
   ],
   "cell_type": "markdown",
   "metadata": {}
  },
  {
   "source": [
    "#### Install dependencies freeze by poetry \n"
   ],
   "cell_type": "markdown",
   "metadata": {}
  },
  {
   "cell_type": "code",
   "execution_count": null,
   "metadata": {},
   "outputs": [],
   "source": [
    "!python3 -m pip install --upgrade pip\n",
    "!python3 -m pip install !python3 -m pip install matplotlib numpy scikit-learn==0.23.2\n"
   ]
  },
  {
   "source": [
    "#### Import the different module we will need in this notebook \n",
    "\n",
    "All the dependencies are installed. Below we import them and will be using them in all our notebooks.\n",
    "\n",
    "Please feel free to look arround and look at their API. \n",
    "\n",
    "The student should be limited to these imports to complete this work.\n"
   ],
   "cell_type": "markdown",
   "metadata": {}
  },
  {
   "source": [
    "# We import some python standard librairy utility function \n",
    "# see the [python doc](https://docs.python.org/3.6/library/functools.html?highlight=func#module-functools) for more info \n",
    "from functools import reduce \n",
    "import random \n",
    "\n",
    "# To create some plot and figures: matplolib [matplotlib doc](https://matplotlib.org/)\n",
    "# To do compute on matrix and vectors: [numpy doc](https://numpy.org/)\n",
    "# To do some classical Machine Learning: [sklearn doc](https://scikit-learn.org/stable/index.html)\n",
    "import matplotlib.pyplot as plt\n",
    "import numpy as np\n",
    "from sklearn.datasets import fetch_openml\n",
    "from sklearn.model_selection import train_test_split"
   ],
   "cell_type": "code",
   "metadata": {},
   "execution_count": null,
   "outputs": []
  },
  {
   "cell_type": "code",
   "execution_count": null,
   "metadata": {},
   "outputs": [],
   "source": [
    "# In order to have some reproducable results and easier debugging \n",
    "# we fix the seed of random.\n",
    "random.seed(1342)\n",
    "np.random.seed(1342)"
   ]
  },
  {
   "cell_type": "markdown",
   "metadata": {},
   "source": [
    "## Data preparation (3 pts)\n",
    "\n",
    "As seen in the lecture one of the earlier use case for deep learning was digit recognition. \n",
    "\n",
    "The dataset we will use today is the MNISTdataset http://yann.lecun.com/exdb/mnist/. \n",
    "\n",
    "One image will be represented a vector (a 28x28 image will be represented as vector with 784 entries).\n",
    "\n",
    "Thus, we will end up with a n_examples x 784 matrix to represent the images in the dataset.\n"
   ]
  },
  {
   "cell_type": "code",
   "execution_count": null,
   "metadata": {},
   "outputs": [],
   "source": [
    "mnist_data, mnist_target = fetch_openml('mnist_784', version=1, return_X_y=True)"
   ]
  },
  {
   "cell_type": "code",
   "execution_count": null,
   "metadata": {},
   "outputs": [],
   "source": [
    "# Let's warmup and answer this first question\n",
    "# Replace the None with you answer.\n",
    "\n",
    "# How many image are in this dataset ? \n",
    "def data_length(dataset: np.array, target: np.array):\n",
    "    \"\"\"Function to compute the length of the dataset and the length of the target labels.\"\"\"\n",
    "    dataset_length = None\n",
    "    target_length = None \n",
    "    return dataset_length, target_length"
   ]
  },
  {
   "cell_type": "code",
   "execution_count": null,
   "metadata": {},
   "outputs": [],
   "source": [
    "# Let's look at on image from this dataset \n",
    "def plot_one_image(dataset: np.array, target: np.array, image_index: int):\n",
    "    \"\"\"Function to plot the image at the given index.\"\"\"\n",
    "    image = dataset[image_index].reshape(28,28)\n",
    "    target = target[image_index]\n",
    "    plt.imshow(image, cmap='gray')\n",
    "    plt.title(f\"This is a {target}\")\n",
    "\n",
    "\n",
    "plot_one_image(mnist_data, mnist_target ,0)"
   ]
  },
  {
   "cell_type": "code",
   "execution_count": null,
   "metadata": {},
   "outputs": [],
   "source": [
    "\n",
    "# In a similar fashion to classical machine learning, we will create a test split to known if the neural network is learning well.\n",
    "\n",
    "X_train, X_test, y_train, y_test = train_test_split(mnist_data, mnist_target, test_size=0.33, random_state=1342)\n",
    "\n",
    "# You the 2 function below to check if they are working properly on this divided dataset.\n",
    "\n",
    "X_train_length, y_train_length = data_length(X_train, y_train)\n",
    "X_test_length, y_test_length = data_length(X_train, y_train)\n",
    "\n",
    "assert X_train_length == y_train_length and X_train_length == 46900\n",
    "assert X_test_length == y_test_length and X_test_length == 23100\n"
   ]
  },
  {
   "cell_type": "code",
   "execution_count": null,
   "metadata": {},
   "outputs": [],
   "source": [
    "plot_one_image(X_train, y_train , 120)"
   ]
  },
  {
   "cell_type": "code",
   "execution_count": null,
   "metadata": {},
   "outputs": [],
   "source": [
    "plot_one_image(X_test, y_test , 250)"
   ]
  },
  {
   "cell_type": "code",
   "execution_count": null,
   "metadata": {},
   "outputs": [],
   "source": [
    "# It's important to normalize the data before feeding it into the neural network\n",
    "def normalize_data(dataset: np.array) -> np.array:\n",
    "    normalized_dataset = None\n",
    "    return normalized_dataset"
   ]
  },
  {
   "source": [
    "It's also important to find a good representation of the target.\n",
    "\n",
    "In this notebook it will be one-hot vector. \n",
    "\n",
    "Complete the below function to turn the target vector into a one-hot matrix.\n",
    "\n",
    "For example, a `[0,1,9]` vector will become the following matrix:\n",
    "\n",
    "`[[1,0,0,0,0,0,0,0,0,0],\n",
    "  [0,1,0,0,0,0,0,0,0,0],\n",
    "  [0,0,0,0,0,0,0,0,0,1]]`\n",
    "\n"
   ],
   "cell_type": "markdown",
   "metadata": {}
  },
  {
   "cell_type": "code",
   "execution_count": null,
   "metadata": {},
   "outputs": [],
   "source": [
    "def target_to_one_hot(target: np.array) -> np.array:\n",
    "    one_hot_matrix = None \n",
    "    ###\n",
    "    return one_hot_matrix"
   ]
  },
  {
   "source": [
    "## Useful functions (3 pts)\n",
    "\n",
    "Implement the sigmoid function, its derivative and the softmax function:"
   ],
   "cell_type": "markdown",
   "metadata": {}
  },
  {
   "cell_type": "code",
   "execution_count": null,
   "metadata": {},
   "outputs": [],
   "source": [
    "def sigmoid(M: np.array) -> np.array:\n",
    "    \"\"\"Apply a sigmoid to the input array\"\"\"\n",
    "    # TODO\n",
    "    return None"
   ]
  },
  {
   "cell_type": "code",
   "execution_count": null,
   "metadata": {},
   "outputs": [],
   "source": [
    "def d_sigmoid(M: np.array)-> np.array:\n",
    "    \"\"\"Compute the derivative of the sigmoid\"\"\" \n",
    "    # TODO\n",
    "    return None"
   ]
  },
  {
   "cell_type": "code",
   "execution_count": null,
   "metadata": {},
   "outputs": [],
   "source": [
    "def softmax(X: np.array)-> np.array:\n",
    "    \"\"\"Apply a softmax to the input array\"\"\"\n",
    "    # TODO\n",
    "    return None"
   ]
  },
  {
   "cell_type": "markdown",
   "metadata": {},
   "source": [
    "## Feed forward NN\n",
    "\n",
    "Now that the data is prepared it's time to create a neural network to learn on this dataset.\n",
    "\n",
    "You can look back at the lecture slides and need to replace the None in the below function in order to have the building blocks of this first neural network. \n",
    "\n",
    "To do so we are now going to create the FFNN class. It will take list of integers to represent the network.\n",
    "\n",
    "One element in the list corresponds to the number of neurones in the layer.\n",
    "`config = [784, 3, 4, 10]` will be an acceptable config: \n",
    "- inputs are 1x784 vectors \n",
    "- the model output should be a vector of size 10 to classify between 10 classes.\n",
    "- in the middle the hidden layer are fully customizable\n",
    "\n",
    "You have to do some implementations and replace the None assignment (variable = None). Do not do it for the Layer object.\n",
    "\n",
    "Warning: None return type for some methods are not supposed to be affected"
   ]
  },
  {
   "cell_type": "code",
   "execution_count": null,
   "metadata": {},
   "outputs": [],
   "source": [
    "class Layer:\n",
    "    def __init__(self):\n",
    "        self.Z = None\n",
    "        self.W = None\n",
    "        self.D = None\n",
    "        self.F = None\n",
    "        self.activation = None"
   ]
  },
  {
   "cell_type": "code",
   "execution_count": null,
   "metadata": {},
   "outputs": [],
   "source": [
    "class FFNN:\n",
    "    def __init__(self, config, minibatch_size=100, learning_rate=0.1):\n",
    "        self.layers = []\n",
    "        self.nlayers = len(config)\n",
    "        self.minibatch_size = minibatch_size\n",
    "        self.learning_rate = learning_rate\n",
    "        \n",
    "        input_data = Layer()\n",
    "        # TODO: initialize the Z matrix with the a matrix containing only zeros\n",
    "        # its shape should be (minibatch_size, config[0])\n",
    "        input_data.Z = None\n",
    "        self.layers.append(input_data)\n",
    "                                        \n",
    "        for i in range(1, len(config)):\n",
    "            nnodes = config[i]\n",
    "            layer  = Layer()\n",
    "            nlines_prev, ncols_prev = self.layers[i - 1].Z.shape\n",
    "            # TODO: initilize the weight matrix W in the layer with a random normal distribution\n",
    "            # its shape should be (ncols_prev, nnodes)\n",
    "            layer.W = None\n",
    "            # TODO: initilize the matrix Z in the layer with a matrix containing only zeros\n",
    "            # its shape should be (nlines_prev, nnodes)\n",
    "            layer.Z = None\n",
    "            # TODO: use the sigmoid activation function\n",
    "            layer.activation = None\n",
    "            self.layers.append(layer)\n",
    "        # TODO: Your last layer activation should be a softmax\n",
    "        self.layers[-1].activation = None\n",
    "        \n",
    "    def one_step_forward(self, signal: np.array, cur_layer: Layer)-> np.array:\n",
    "        # Compute the F and Z matrix for the current layer and return Z\n",
    "        \n",
    "        # TODO: Compute the dot product betzeen the signal and the current layer W matrix\n",
    "        S = None\n",
    "        # TODO: Compute the F matrix of the current layer\n",
    "        cur_layer.F = None\n",
    "        # Compute the activation od the current layer\n",
    "        cur_layer.Z = None\n",
    "        return cur_layer.Z\n",
    "       \n",
    "    def forward_pass(self, input_data: np.array)-> np.array:\n",
    "        # TODO: perform the whole forward pass using the on_step_forward function\n",
    "        pass\n",
    "    \n",
    "    def one_step_backward(self, prev_layer: Layer, cur_layer: Layer)-> Layer:\n",
    "        # TODO: Compute the D matrix of the current layer using the previous layer and return the current layer\n",
    "        Di = None\n",
    "        cur_layer.D = Di\n",
    "        return cur_layer\n",
    "        \n",
    "    def backward_pass(self, D_out: np.array)-> None:\n",
    "        self.layers[-1].D = D_out.T\n",
    "        # TODO: Compute the D matrix for all the layers (excluding the first one which corresponds to the input itself)\n",
    "        # (you should only use self.layers[1:])\n",
    "        pass\n",
    "    \n",
    "    def update_weights(self, cur_layer: Layer, next_layer: Layer)-> Layer:\n",
    "        # TODO: Update the W matrix of the next_layer using the current_layer and the learning rate\n",
    "        # and return the next_layer\n",
    "        pass\n",
    "    \n",
    "    def update_all_weights(self)-> None:\n",
    "        # TODO: Update all W matrix using the update_weights function\n",
    "        pass\n",
    "        \n",
    "    def get_error(self, y_pred: np.array, y_batch: np.array)-> float:\n",
    "        # TODO: return the accuracy on the predictions\n",
    "        # the accuracy should be in the [0.0, 1.0] range\n",
    "        pass\n",
    "    \n",
    "    def get_test_error(self, X: np.array, y: np.array)-> float:\n",
    "        # TODO: Compute the accuracy using the get_error function\n",
    "        nbatch = X.shape[0]\n",
    "        error_sum = 0.0\n",
    "        for i in range(0, nbatch):\n",
    "            X_batch = X[i,:,:].reshape(self.minibatch_size, -1)\n",
    "            y_batch = y[i,:,:].reshape(self.minibatch_size, -1)           \n",
    "            # TODO: get y_pred using the forward pass\n",
    "            error_sum += None\n",
    "        return error_sum / nbatch\n",
    "            \n",
    "        \n",
    "    def train(self, nepoch, X_train, y_train, X_test, y_test)-> float:\n",
    "        X_train = X_train.reshape(-1, self.minibatch_size, 784)\n",
    "        y_train = y_train.reshape(-1, self.minibatch_size, 10)\n",
    "        \n",
    "        X_test = X_test.reshape(-1, self.minibatch_size, 784)\n",
    "        y_test = y_test.reshape(-1, self.minibatch_size, 10)\n",
    "        \n",
    "        # TODO: Get the number of batch based on X_train's shape\n",
    "        nbatch = None\n",
    "        error_test = 0.0\n",
    "        for epoch in range(0, nepoch):\n",
    "            error_sum_train = 0.0\n",
    "            for i in range(0, nbatch):\n",
    "                X_batch = X_train[i,:, :]\n",
    "                y_batch = y_train[i,:, :]\n",
    "        \n",
    "                y_pred = self.forward_pass(X_batch)\n",
    "                self.backward_pass(y_pred - y_batch)\n",
    "                self.update_all_weights()\n",
    "                error_sum_train += self.get_error(y_pred, y_batch)\n",
    "            error_test = self.get_test_error(X_test, y_test)\n",
    "            print(f\"Training accuracy: {error_sum_train / nbatch:.3f}, Test accuracy: {error_test:.3f}\")\n",
    "        return error_test"
   ]
  },
  {
   "cell_type": "markdown",
   "metadata": {},
   "source": [
    "## Training phase (12 pts)\n",
    "\n",
    "Now, it is time to train the model !!\n",
    "\n",
    "You can play with the different parameters (minibatch_size, nepoch, learning_rate and the number of hidden layers)\n",
    "\n",
    "It's on 12 points because there is a lot of functions to fill but also we want the training best training accuracy. \n",
    "\n",
    "To have all the point your neural network needs to have a Test accuracy > 92 % !! "
   ]
  },
  {
   "cell_type": "code",
   "execution_count": null,
   "metadata": {},
   "outputs": [],
   "source": [
    "minibatch_size = 5 \n",
    "nepoch = 10\n",
    "learning_rate = 0.01\n",
    "\n",
    "ffnn = FFNN(config=[784, 3, 3, 10], minibatch_size=minibatch_size, learning_rate=learning_rate)"
   ]
  },
  {
   "cell_type": "code",
   "execution_count": null,
   "metadata": {},
   "outputs": [],
   "source": [
    "assert X_train.shape[0] % minibatch_size == 0\n",
    "assert X_test.shape[0] % minibatch_size == 0\n",
    "\n",
    "err = ffnn.train(nepoch, X_train, y_train, X_test, y_test)"
   ]
  },
  {
   "cell_type": "markdown",
   "metadata": {},
   "source": [
    "## Error analysis (2 pts)\n",
    "\n",
    "Here we use a subset of the test data to try and find some miss classification.\n",
    "\n",
    "It will help us understand why the neural network failed sometimes to classify images. "
   ]
  },
  {
   "cell_type": "code",
   "execution_count": null,
   "metadata": {},
   "outputs": [],
   "source": [
    "nsample = 1000\n",
    "X_demo = X_test[:nsample,:]\n",
    "y_demo = ffnn.forward_pass(X_demo)\n",
    "y_true = y_test[:nsample,:]\n",
    "\n",
    "index_to_plot = 50 \n",
    "plot_one_image(X_demo, y_true, index_to_plot)\n",
    "\n",
    "# Compare to the prediction \n",
    "prediction = np.argmax(y_demo[index_to_plot,:])\n",
    "true_target = np.argmax(y_true[index_to_plot,:])\n",
    "\n",
    "# is it the same number ? "
   ]
  },
  {
   "cell_type": "code",
   "execution_count": null,
   "metadata": {},
   "outputs": [],
   "source": [
    "# loop arround the demo test set and try to find a miss prediction\n",
    "for i in range(0, nsample):   \n",
    "    prediction = None # Todo\n",
    "    true_target = None # Todo\n",
    "    if prediction != true_target:\n",
    "        # TODO\n"
   ]
  },
  {
   "source": [
    "## Open analysis\n",
    "\n",
    "in the cell below please explain you choice for all the parameters of your configuration: \n",
    "\n",
    "- minibatch_size\n",
    "- nepoch\n",
    "- config\n",
    "- learning_rate\n",
    "\n",
    "Also explain how the neural network behave when changing them ? "
   ],
   "cell_type": "markdown",
   "metadata": {}
  },
  {
   "source": [
    "## Open analysis answer\n",
    "\n",
    "TODO"
   ],
   "cell_type": "markdown",
   "metadata": {}
  },
  {
   "cell_type": "code",
   "execution_count": null,
   "metadata": {},
   "outputs": [],
   "source": []
  }
 ],
 "metadata": {
  "kernelspec": {
   "display_name": "Python 3",
   "language": "python",
   "name": "python3"
  },
  "language_info": {
   "codemirror_mode": {
    "name": "ipython",
    "version": 3
   },
   "file_extension": ".py",
   "mimetype": "text/x-python",
   "name": "python",
   "nbconvert_exporter": "python",
   "pygments_lexer": "ipython3",
   "version": "3.6.9-final"
  }
 },
 "nbformat": 4,
 "nbformat_minor": 2
}